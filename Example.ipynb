{
 "cells": [
  {
   "cell_type": "markdown",
   "id": "8741dd44-5aae-4b40-b532-1e1da33fab92",
   "metadata": {},
   "source": [
    "# Introduction"
   ]
  },
  {
   "cell_type": "markdown",
   "id": "574527bc-a795-4098-b583-ecd9100a83f9",
   "metadata": {},
   "source": [
    "Behind the scene of an email client, our computers have to do a lot of work to send an email. In this tutorial we show how to use the MyEmail package, which is a very simple and humble composition of well known built-in python packages for the email management."
   ]
  },
  {
   "cell_type": "markdown",
   "id": "f039ef01-d061-4488-a4c1-4b17b6b9eb4a",
   "metadata": {},
   "source": [
    "## Setting the Email Sender Server"
   ]
  },
  {
   "cell_type": "markdown",
   "id": "e02600e2-50d1-44b1-82c0-a47ad7b031c3",
   "metadata": {},
   "source": [
    "First of all we create an object that will represent our mail server, and handle sending messages to that server. Since my personal email is **outlook**, we shall explain the configuration procedure for this situation. \n",
    "\n",
    ">Open Outlook in a browser and go to the Settings. Look for POP e IMAP in the search bar and select \"Consenti a dispositivi ed App di usare POP\". Select \"Yes\" and save the changes. In this way you have authorized python to connect and use your email server. After these changes you will see in this page the configurations to use the SMTP protocol (localhost and port). "
   ]
  },
  {
   "cell_type": "markdown",
   "id": "a068b063-f7c9-4e2b-95b6-7c6b1b19f219",
   "metadata": {},
   "source": [
    "As the next example suggests, the 'port' entry is assumed to be an integer. "
   ]
  },
  {
   "cell_type": "code",
   "execution_count": 1,
   "id": "74ceea56-f06f-4822-a32f-f77c35123bea",
   "metadata": {},
   "outputs": [],
   "source": [
    "from MyEmail import MyEmailServer, MyEmailMessage\n",
    "\n",
    "email_sender = \"example@outlook.com\"\n",
    "localhost = 'test'\n",
    "port = 999 #this is a random number\n",
    "\n",
    "Server = MyEmailServer(email_sender, localhost, port )"
   ]
  },
  {
   "cell_type": "markdown",
   "id": "eddfc4ac-8d37-4305-8b3d-f052b0a529ae",
   "metadata": {},
   "source": [
    "The MyEmailServer object has to string representation."
   ]
  },
  {
   "cell_type": "code",
   "execution_count": 2,
   "id": "795b12c0-1e4c-4474-918b-7c02d9597749",
   "metadata": {},
   "outputs": [
    {
     "name": "stdout",
     "output_type": "stream",
     "text": [
      "The email server for this account: example@outlook.com\n"
     ]
    }
   ],
   "source": [
    "print(Server)"
   ]
  },
  {
   "cell_type": "code",
   "execution_count": 3,
   "id": "06a1b7fa-baf5-4fbf-b413-db90be295ddc",
   "metadata": {},
   "outputs": [
    {
     "data": {
      "text/plain": [
       "'MyEmailServer(example@outlook.com, test, 999)'"
      ]
     },
     "execution_count": 3,
     "metadata": {},
     "output_type": "execute_result"
    }
   ],
   "source": [
    "repr(Server)"
   ]
  },
  {
   "cell_type": "markdown",
   "id": "ca63cdea-4321-4c14-9a13-bac9d2652734",
   "metadata": {},
   "source": [
    "## Sending a Message"
   ]
  },
  {
   "cell_type": "markdown",
   "id": "2053ef97-652d-47a3-8cf5-94a207506e13",
   "metadata": {},
   "source": [
    "The first step to send a message is to import the module MyEmailMessage and set the default server email manager. "
   ]
  },
  {
   "cell_type": "code",
   "execution_count": 4,
   "id": "597f3d1a-1707-4dba-8ec1-a0c318cbe5e7",
   "metadata": {},
   "outputs": [],
   "source": [
    "from MyEmail import MyEmailMessage\n",
    "MyEmailMessage.set_server = Server"
   ]
  },
  {
   "cell_type": "markdown",
   "id": "a0231a64-8c15-4443-b6b5-3c0c2903d21f",
   "metadata": {},
   "source": [
    "We can now create a message and print it as a string."
   ]
  },
  {
   "cell_type": "code",
   "execution_count": 5,
   "id": "365d8294-3d99-4a40-a2b7-72b3e289fed1",
   "metadata": {},
   "outputs": [
    {
     "name": "stdout",
     "output_type": "stream",
     "text": [
      "Subject: Email Automation Test\n",
      "                    \n",
      "Attachments: []\n",
      "                   \n",
      "%---------------------------------------%\n",
      "                   \n",
      "\n",
      "Hello,\n",
      "\n",
      "this is a test.\n",
      "\n",
      "\n",
      "\n",
      "Cheers\n",
      "\n",
      "        \n"
     ]
    }
   ],
   "source": [
    "subject = \"Email Automation Test\"\n",
    "body = \"\"\"\n",
    "Hello,\n",
    "\\nthis is a test.\n",
    "\\n\n",
    "\\nCheers\n",
    "\"\"\"\n",
    "message = MyEmailMessage(subject, body)\n",
    "print(message)"
   ]
  },
  {
   "cell_type": "markdown",
   "id": "c8c9a1ce-09ac-4f99-bf9a-c0383bd472f8",
   "metadata": {},
   "source": [
    "To send the message one shall just adopt the \"send_to\" method. This will require to inser the password of the personal email sender account."
   ]
  },
  {
   "cell_type": "code",
   "execution_count": 6,
   "id": "f3423db1-6b52-4845-af08-9ae18f3f2c51",
   "metadata": {},
   "outputs": [
    {
     "name": "stdin",
     "output_type": "stream",
     "text": [
      "Password:  ········\n"
     ]
    },
    {
     "name": "stdout",
     "output_type": "stream",
     "text": [
      "Connection Failed - Check Server Permissions (localhost/port/auth)\n"
     ]
    }
   ],
   "source": [
    "message.send_to(\"another_example@google.it\")"
   ]
  },
  {
   "cell_type": "markdown",
   "id": "f946f790-b847-4e5d-a483-4ed6d4c64f2f",
   "metadata": {},
   "source": [
    "In case of troubles there will be printed messages. "
   ]
  },
  {
   "cell_type": "markdown",
   "id": "37de398e-65e1-486c-b0e9-c56f9b67fcf4",
   "metadata": {},
   "source": [
    "## Final Remarks"
   ]
  },
  {
   "cell_type": "markdown",
   "id": "de03db6f-294b-4ce8-bfb6-ab83bab7e6a1",
   "metadata": {},
   "source": [
    " - The 'sent_to' method is prepared to accept also a list of CC emails.\n",
    " - Note that you may change a single message default email server with the attribute 'set_server'.\n",
    " - You can add an attachment to a message using the method\n",
    " > message.add_attachment('path')\n",
    " \n",
    "     For multiple attachments, use iteration.\n",
    " "
   ]
  }
 ],
 "metadata": {
  "kernelspec": {
   "display_name": "Python 3 (ipykernel)",
   "language": "python",
   "name": "python3"
  },
  "language_info": {
   "codemirror_mode": {
    "name": "ipython",
    "version": 3
   },
   "file_extension": ".py",
   "mimetype": "text/x-python",
   "name": "python",
   "nbconvert_exporter": "python",
   "pygments_lexer": "ipython3",
   "version": "3.9.12"
  }
 },
 "nbformat": 4,
 "nbformat_minor": 5
}
